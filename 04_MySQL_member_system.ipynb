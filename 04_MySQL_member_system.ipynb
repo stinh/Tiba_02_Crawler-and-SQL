{
  "nbformat": 4,
  "nbformat_minor": 0,
  "metadata": {
    "colab": {
      "name": "04_MySQL member system.ipynb",
      "provenance": [],
      "collapsed_sections": [],
      "authorship_tag": "ABX9TyObH5Zv6AQWf+vTXSOwRI7B",
      "include_colab_link": true
    },
    "kernelspec": {
      "name": "python3",
      "display_name": "Python 3"
    },
    "language_info": {
      "name": "python"
    }
  },
  "cells": [
    {
      "cell_type": "markdown",
      "metadata": {
        "id": "view-in-github",
        "colab_type": "text"
      },
      "source": [
        "<a href=\"https://colab.research.google.com/github/stinh/Tiba_02_Crawler-and-SQL/blob/main/04_MySQL_member_system.ipynb\" target=\"_parent\"><img src=\"https://colab.research.google.com/assets/colab-badge.svg\" alt=\"Open In Colab\"/></a>"
      ]
    },
    {
      "cell_type": "markdown",
      "metadata": {
        "id": "wmT1gyffBUxh"
      },
      "source": [
        " 用Python搭配MySQL製作一個會員管理系統，須具備新增、刪除和修改會員的功能。\n",
        " 會員的資料欄位包含姓名、生日、地址等三個欄位。"
      ]
    },
    {
      "cell_type": "code",
      "metadata": {
        "colab": {
          "base_uri": "https://localhost:8080/"
        },
        "id": "tuBuzbEMBHL8",
        "outputId": "2393aeb3-8573-4ad0-a8bb-c85e597c5fc9"
      },
      "source": [
        "!pip install pymysql"
      ],
      "execution_count": null,
      "outputs": [
        {
          "output_type": "stream",
          "name": "stdout",
          "text": [
            "Requirement already satisfied: pymysql in /usr/local/lib/python3.7/dist-packages (1.0.2)\n"
          ]
        }
      ]
    },
    {
      "cell_type": "markdown",
      "metadata": {
        "id": "D4qeNXowy35a"
      },
      "source": [
        "執行選單"
      ]
    },
    {
      "cell_type": "code",
      "metadata": {
        "id": "VY4_JdebKAqW"
      },
      "source": [
        "while True:\n",
        "\n",
        "  option = int(input(\"代碼  指令說明 \\n 0    離開程式\\n 1    顯示會員列表\\n 2    新增會員資料\\n 3    更新會員資料\\n 4    刪除會員資料\\n\\n 請輸入代碼：\"))\n",
        "\n",
        "  if option==1:\n",
        "    import prettytable\n",
        "    cur.execute(\"SELECT * FROM `member` ORDER BY `ID` ASC\")\n",
        "    r=cur.fetchall()\n",
        "    table = prettytable.PrettyTable([\"會員號\", \"姓名\", \"生日\", \"地址\"], encoding=\"utf8\")\n",
        "    table.align[\"Title\"]=\"c\"\n",
        "    for data in r:\n",
        "      table.add_row([data[0],data[1],data[2],data[3]])\n",
        "    print(table)\n",
        "\n",
        "  elif option==2:\n",
        "    cur.execute(\n",
        "    \"INSERT INTO `member`(`name`, `birthday`, `address`) VALUES(%(x)s,%(y)s,%(z)s)\",\n",
        "    {\"x\":input(\"姓名：\"),\"y\":input(\"生日：\"),\"z\":input(\"地址：\")})\n",
        "    link.commit()\n",
        "\n",
        "\n",
        "  elif option==3:\n",
        "    cur=link.cursor()\n",
        "    id = input(\"請選擇你要修改的資料編號：\")\n",
        "    name = input(\"請輸入姓名：\")\n",
        "    birthday = input(\"請輸入生日：\")\n",
        "    address = input(\"請輸入地址：\")\n",
        "    cur.execute(\"UPDATE `member` SET `name`=%s,`birthday`=%s,`address`=%s WHERE `id`=%s\",[name,birthday,address,int(id)])\n",
        "    link.commit()\n",
        "\n",
        "\n",
        "  elif option==4:\n",
        "    cur=link.cursor()\n",
        "    id = input(\"請選擇你要刪除的資料編號：\")\n",
        "    cur.execute(\"DELETE FROM `member` WHERE `id`=%s\",[int(id)])\n",
        "    link.commit()\n",
        "  \n",
        "  else:\n",
        "    import os\n",
        "    os.system('cls')\n",
        "    break\n",
        "    link.close()\n",
        "\n",
        "\n",
        "\n"
      ],
      "execution_count": null,
      "outputs": []
    }
  ]
}