{
  "nbformat": 4,
  "nbformat_minor": 0,
  "metadata": {
    "colab": {
      "name": "00_practice_20211014_MySQL.ipynb",
      "provenance": [],
      "authorship_tag": "ABX9TyN6OxGBaXV4h1VE2hM7egdd",
      "include_colab_link": true
    },
    "kernelspec": {
      "name": "python3",
      "display_name": "Python 3"
    },
    "language_info": {
      "name": "python"
    }
  },
  "cells": [
    {
      "cell_type": "markdown",
      "metadata": {
        "id": "view-in-github",
        "colab_type": "text"
      },
      "source": [
        "<a href=\"https://colab.research.google.com/github/stinh/Tiba_02_Crawler-and-SQL/blob/main/00_practice_20211014_MySQL.ipynb\" target=\"_parent\"><img src=\"https://colab.research.google.com/assets/colab-badge.svg\" alt=\"Open In Colab\"/></a>"
      ]
    },
    {
      "cell_type": "code",
      "metadata": {
        "colab": {
          "base_uri": "https://localhost:8080/"
        },
        "id": "d4EavWoeZRT8",
        "outputId": "44144aba-be8e-4854-ecbd-930a217b5347"
      },
      "source": [
        "!pip install pymysql"
      ],
      "execution_count": null,
      "outputs": [
        {
          "output_type": "stream",
          "name": "stdout",
          "text": [
            "Requirement already satisfied: pymysql in /usr/local/lib/python3.7/dist-packages (1.0.2)\n"
          ]
        }
      ]
    },
    {
      "cell_type": "code",
      "metadata": {
        "id": "BMtB64q-xqjj"
      },
      "source": [
        "import pymysql\n",
        "link=pymysql.connect(\n",
        "  host=\"\",\n",
        "  user=\"\", #帳號大家寫自己的\n",
        "  passwd=\"\",\n",
        "  db=\"\", #資料庫名稱大家寫自己的\n",
        "  charset=\"utf8\",\n",
        "  port=3306\n",
        ")\n",
        "cur=link.cursor()\n",
        "# id=input(\"要修改的資料ID：\")\n",
        "title=input(\"標題：\")\n",
        "description=input(\"描述：\")\n",
        "source=input(\"來源：\")\n",
        "# create_date=input(\"日期：\")\n",
        "\n",
        "# cur.execute(\"UPDATE `news` SET `title`=%s,`description`=%s WHERE `id`=%s\",[title,description,id])\n",
        "# link.commit()\n",
        "\n",
        "cur.execute(\n",
        "  \"INSERT INTO `news`(`title`,`description`,`source`,`create_date`) VALUES(%s,%s,%s,'2021-10-14')\",\n",
        "  [title,description,source]\n",
        ")\n",
        "link.commit()\n",
        "\n",
        "link.close()"
      ],
      "execution_count": null,
      "outputs": []
    },
    {
      "cell_type": "code",
      "metadata": {
        "id": "B5F9BtfnyBKb"
      },
      "source": [
        "import pymysql\n",
        "link=pymysql.connect(\n",
        "  host=\"\",\n",
        "  user=\"\", #帳號大家寫自己的\n",
        "  passwd=\"\",\n",
        "  db=\"\", #資料庫名稱大家寫自己的\n",
        "  charset=\"utf8\",\n",
        "  port=3306\n",
        ")\n",
        "cur=link.cursor()\n",
        "\n",
        "cur.execute(\n",
        "  \"INSERT INTO `news`(`title`,`description`,`source`,`create_date`) VALUES(%(y)s,%(z)s,%(x)s,'2021-10-14')\",\n",
        "  {\n",
        "    \"x\":input(\"來源：\"),\n",
        "    \"y\":input(\"標題：\"),\n",
        "    \"z\":input(\"描述：\")\n",
        "  }\n",
        ")\n",
        "link.commit()\n",
        "print(cur.lastrowid)\n",
        "\n",
        "link.close()"
      ],
      "execution_count": null,
      "outputs": []
    },
    {
      "cell_type": "code",
      "metadata": {
        "id": "SesR43w5yILz",
        "colab": {
          "base_uri": "https://localhost:8080/"
        },
        "outputId": "bfe667af-277a-45d4-b1dd-9bcefbbac624"
      },
      "source": [
        "import pymysql\n",
        "link=pymysql.connect(\n",
        "  host=\"\",\n",
        "  user=\"\", #帳號大家寫自己的\n",
        "  passwd=\"\",\n",
        "  db=\"\", #資料庫名稱大家寫自己的\n",
        "  charset=\"utf8\",\n",
        "  port=3306\n",
        ")\n",
        "cur=link.cursor()\n",
        "\n",
        "# cur.execute(\"SELECT * FROM `news` LIMIT 2,1\")\n",
        "cur.execute(\"SELECT * FROM `news`\")\n",
        "d=cur.fetchone() #抓第一筆\n",
        "print(d[0],d[1],d[2])\n",
        "\n",
        "d=cur.fetchone() #抓第二筆\n",
        "print(d[0],d[1],d[2])\n",
        "\n",
        "#抓完剩下的\n",
        "for a in cur.fetchall():\n",
        "  print(a[0],a[1],a[2])\n",
        "\n",
        "# d=cur.fetchone() #fetchone不可以放在fetchall後面執行\n",
        "# print(d[0],d[1],d[2])\n",
        "\n",
        "link.close()"
      ],
      "execution_count": null,
      "outputs": [
        {
          "output_type": "stream",
          "name": "stdout",
          "text": [
            "1 經濟日報 「GOLF學用接軌聯盟」結合企業 與大專院校推學分合作\n",
            "2 蘋果日報 疫情不必停學　緯育TibaMe課程無縫轉線上\n",
            "3 蘋果日報 疫起挺過來緯創TibaMe免費公開遠距教學、辦公課程｜ 蘋果 …\n",
            "4 天天日報 今天規劃\n",
            "5 123 ry\n"
          ]
        }
      ]
    },
    {
      "cell_type": "code",
      "metadata": {
        "id": "s5_xs64t2yxR"
      },
      "source": [
        "import requests,codecs\n",
        "from bs4 import BeautifulSoup\n",
        "import pymysql\n",
        "link=pymysql.connect(\n",
        "  host=\"\",\n",
        "  user=\"\", #帳號大家寫自己的\n",
        "  passwd=\"\",\n",
        "  db=\"\", #資料庫名稱大家寫自己的\n",
        "  charset=\"utf8\",\n",
        "  port=3306\n",
        ")\n",
        "cur=link.cursor()\n",
        " \n",
        "r1=requests.get(\n",
        "  \"https://money.udn.com/rank/newest/1001/0/1\",\n",
        "  headers={\n",
        "    \"User-Agent\":\"Mozilla/5.0 (Windows NT 10.0; Win64; x64; rv:93.0) Gecko/20100101 Firefox/93.0\",\n",
        "    \"Cookie\":\"_fbp=fb.1.1633663623210.1882775856; _ga=GA1.2.1771640070.1633663623; __gads=ID=65d8959fc2d390af:T=1633663623:S=ALNI_MbC1UGBL22RONgv6cdY-GYys6viwQ; cto_bundle=-kdyol9YckVHNDlNeSUyRnlVb2ZPa2g3dmJwNktLTGUlMkZrTiUyRlRUVjlQQVhFV3lMeCUyRiUyRnklMkZsODJiVG4lMkY1alBEa0t0UFV5allYSmwlMkZVQ01NaVZTRDhSMU5RajNNbmp1NXBXUGtCJTJGejA4aUhxYnRsTmhNYmJyUzhUeVlFQ250V0pGc0wyJTJGaGsw; __asc=1b577b2717c7736b87ed750edca; __auc=1b577b2717c7736b87ed750edca; meter_1=1; meter_7=1; _gid=GA1.2.1808153399.1634087648; _gat_UA-19210365-3=1; _gat_UA-19660006-1=1; gliaplayer_ssid=ded47c80-2bc2-11ec-9e7e-cbdcd7321766; _gliaplayer_user_info={%22city%22:%22suginami%20city%22%2C%22uid%22:%22defdfd80-2bc2-11ec-9e7e-cbdcd7321766%22%2C%22country%22:%22TW%22%2C%22region%22:%2213%22%2C%22source%22:%22CF%22%2C%22latlong%22:%2235.699470%2C139.635520%22%2C%22ip%22:%22111.243.51.55%22}; _pbjs_userid_consent_data=3524755945110770\"\n",
        "  }\n",
        ")\n",
        "b1=BeautifulSoup(r1.text,\"html.parser\")\n",
        "for b2 in b1.find_all(\"tr\",{\"style\":\"table-row\"}):\n",
        "  print(\n",
        "    b2.find(\"td\",{\"align\":\"right\"}).text,\n",
        "    b2.find(\"a\").attrs[\"href\"],\n",
        "    b2.find(\"a\").text\n",
        "  )\n",
        "  r2=requests.get(\n",
        "    b2.find(\"a\").attrs[\"href\"],\n",
        "    headers={\n",
        "      \"User-Agent\":\"Mozilla/5.0 (Windows NT 10.0; Win64; x64; rv:93.0) Gecko/20100101 Firefox/93.0\",\n",
        "      \"Cookie\":\"_fbp=fb.1.1633663623210.1882775856; _ga=GA1.2.1771640070.1633663623; __gads=ID=65d8959fc2d390af:T=1633663623:S=ALNI_MbC1UGBL22RONgv6cdY-GYys6viwQ; cto_bundle=-kdyol9YckVHNDlNeSUyRnlVb2ZPa2g3dmJwNktLTGUlMkZrTiUyRlRUVjlQQVhFV3lMeCUyRiUyRnklMkZsODJiVG4lMkY1alBEa0t0UFV5allYSmwlMkZVQ01NaVZTRDhSMU5RajNNbmp1NXBXUGtCJTJGejA4aUhxYnRsTmhNYmJyUzhUeVlFQ250V0pGc0wyJTJGaGsw; __asc=1b577b2717c7736b87ed750edca; __auc=1b577b2717c7736b87ed750edca; meter_1=1; meter_7=1; _gid=GA1.2.1808153399.1634087648; _gat_UA-19210365-3=1; _gat_UA-19660006-1=1; gliaplayer_ssid=ded47c80-2bc2-11ec-9e7e-cbdcd7321766; _gliaplayer_user_info={%22city%22:%22suginami%20city%22%2C%22uid%22:%22defdfd80-2bc2-11ec-9e7e-cbdcd7321766%22%2C%22country%22:%22TW%22%2C%22region%22:%2213%22%2C%22source%22:%22CF%22%2C%22latlong%22:%2235.699470%2C139.635520%22%2C%22ip%22:%22111.243.51.55%22}; _pbjs_userid_consent_data=3524755945110770\"\n",
        "    }\n",
        "  )\n",
        "  b3=BeautifulSoup(r2.text,\"html.parser\")\n",
        "  description=\"\"\n",
        "  for b4 in b3.find(\"div\",{\"id\":\"article_body\"}).find_all(\"p\"):\n",
        "    description+=b4.text\n",
        "  cur.execute(\n",
        "    \"INSERT INTO `news`(`title`,`description`,`source`) VALUES(%(y)s,%(z)s,'聯合新聞網')\",\n",
        "    {\n",
        "      \"y\":b2.find(\"a\").text,\n",
        "      \"z\":description\n",
        "    }\n",
        "  )\n",
        "  link.commit()\n",
        "  \n",
        "link.close()"
      ],
      "execution_count": null,
      "outputs": []
    }
  ]
}