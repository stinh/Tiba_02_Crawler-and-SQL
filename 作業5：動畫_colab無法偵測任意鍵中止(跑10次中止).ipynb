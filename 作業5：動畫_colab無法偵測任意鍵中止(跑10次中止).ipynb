{
  "nbformat": 4,
  "nbformat_minor": 0,
  "metadata": {
    "colab": {
      "name": "作業5：動畫_colab無法偵測任意鍵中止(跑10次中止).ipynb",
      "provenance": [],
      "collapsed_sections": [],
      "authorship_tag": "ABX9TyMH50J772H6r+bnQATMo+WU",
      "include_colab_link": true
    },
    "kernelspec": {
      "name": "python3",
      "display_name": "Python 3"
    },
    "language_info": {
      "name": "python"
    }
  },
  "cells": [
    {
      "cell_type": "markdown",
      "metadata": {
        "id": "view-in-github",
        "colab_type": "text"
      },
      "source": [
        "<a href=\"https://colab.research.google.com/github/stinh/Tiba_practice/blob/main/%E4%BD%9C%E6%A5%AD5%EF%BC%9A%E5%8B%95%E7%95%AB_colab%E7%84%A1%E6%B3%95%E5%81%B5%E6%B8%AC%E4%BB%BB%E6%84%8F%E9%8D%B5%E4%B8%AD%E6%AD%A2(%E8%B7%9110%E6%AC%A1%E4%B8%AD%E6%AD%A2).ipynb\" target=\"_parent\"><img src=\"https://colab.research.google.com/assets/colab-badge.svg\" alt=\"Open In Colab\"/></a>"
      ]
    },
    {
      "cell_type": "markdown",
      "metadata": {
        "id": "jrRARxsYSuPV"
      },
      "source": [
        "\n",
        "寫一個動畫的程式。程式中有一個方形會在左右兩端來回的跑。直到按下任意按鍵為止，否則程式不會結束。 "
      ]
    },
    {
      "cell_type": "code",
      "metadata": {
        "id": "Fz11SeINTD4y"
      },
      "source": [
        "import cv2, time, sys, threading\n",
        "# import pygame\n",
        "import numpy as np\n",
        "import IPython.display as dp\n",
        "from PIL import ImageFont, ImageDraw, Image\n",
        "from google.colab.patches import cv2_imshow"
      ],
      "execution_count": null,
      "outputs": []
    },
    {
      "cell_type": "markdown",
      "metadata": {
        "id": "TWcqDBK06dxR"
      },
      "source": [
        "**完成動畫，但還沒找到Colab終止指令，改跑10圈中止**\n",
        "\n",
        "\n"
      ]
    },
    {
      "cell_type": "code",
      "metadata": {
        "id": "-qAy7q1NQFSz",
        "colab": {
          "base_uri": "https://localhost:8080/",
          "height": 317
        },
        "outputId": "317f4283-f191-4e12-a9ae-975678e0fffc"
      },
      "source": [
        "m1=np.full((300, 500, 3), (255,255,255), np.uint8)\n",
        "\n",
        "p1=cv2.VideoWriter(\"1.mp4\", cv2.VideoWriter_fourcc(*'MP4V'), 24, (500,500)) \n",
        "\n",
        "t=0\n",
        "while t<10:\n",
        "# while True:\n",
        "  \n",
        "  for w in range(0,435,15):\n",
        "    m1=np.full((300, 500, 3), (255,255,255), np.uint8)\n",
        "    dp.clear_output(True) \n",
        "    cv2.rectangle(m1, (0+w,80),(80+w,160),(230,125,100), -1)\n",
        "    cv2_imshow(m1)\n",
        "    # p1.write(m1)\n",
        "    time.sleep(0.3) \n",
        "\n",
        "  for w in range(0,435,15):\n",
        "    m1=np.full((300, 500, 3), (255,255,255), np.uint8)\n",
        "    dp.clear_output(True) \n",
        "    cv2.rectangle(m1, (420-w,80),(500-w,160),(230,125,100), -1)\n",
        "    cv2_imshow(m1)\n",
        "    # p1.write(m1)\n",
        "    time.sleep(0.3) \n",
        "    \n",
        "    t+=1\n",
        "    break\n",
        "\n",
        "p1.release()  "
      ],
      "execution_count": null,
      "outputs": [
        {
          "output_type": "display_data",
          "data": {
            "image/png": "[encoded data removed]",
            "text/plain": [
              "<PIL.Image.Image image mode=RGB size=500x300 at 0x7F8B6F1C8F50>"
            ]
          },
          "metadata": {}
        }
      ]
    },
    {
      "cell_type": "code",
      "metadata": {
        "id": "L7zimlo17GXc"
      },
      "source": [
        "'''\n",
        "已試過都不行在colab任意建中止\n",
        "!pip install keyboard\n",
        "from msvcrt import getch \n",
        "pip install py-getch\n",
        "\n",
        "'''"
      ],
      "execution_count": null,
      "outputs": []
    },
    {
      "cell_type": "code",
      "metadata": {
        "id": "7egVI-daBx97"
      },
      "source": [
        "# def quit_on_user_input():\n",
        "#     input = raw_input(\"Press any key to quit.\")\n",
        "#     # thread will lock up and wait for user to input. That's why this is on a separate thread.\n",
        "#     sys.exit(0)\n",
        "\n",
        "# quit_thread = threading.Thread(target=quit_on_user_input, args=[])\n",
        "# quit_trhead.start()\n",
        "# # The rest of your code. quit_thread will run in the background and therefor won't lock up your main thread."
      ],
      "execution_count": null,
      "outputs": []
    }
  ]
}