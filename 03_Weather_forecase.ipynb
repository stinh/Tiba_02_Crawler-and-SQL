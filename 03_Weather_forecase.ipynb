{
  "nbformat": 4,
  "nbformat_minor": 0,
  "metadata": {
    "colab": {
      "name": "03_Weather forecase.ipynb",
      "provenance": [],
      "collapsed_sections": [],
      "authorship_tag": "ABX9TyO2w7dtkW8Rxrkh1RhFDMAR",
      "include_colab_link": true
    },
    "kernelspec": {
      "name": "python3",
      "display_name": "Python 3"
    },
    "language_info": {
      "name": "python"
    }
  },
  "cells": [
    {
      "cell_type": "markdown",
      "metadata": {
        "id": "view-in-github",
        "colab_type": "text"
      },
      "source": [
        "<a href=\"https://colab.research.google.com/github/stinh/Tiba_02_Crawler-and-SQL/blob/main/03_Weather_forecase.ipynb\" target=\"_parent\"><img src=\"https://colab.research.google.com/assets/colab-badge.svg\" alt=\"Open In Colab\"/></a>"
      ]
    },
    {
      "cell_type": "markdown",
      "metadata": {
        "id": "eVYYXb3RtSbd"
      },
      "source": [
        "使用「中央氣象局」的氣象資料，建立一個可以查詢縣市溫度極值資料的程式。\n",
        "網址：https://www.cwb.gov.tw/V8/C/W/County_TempTop.html\n"
      ]
    },
    {
      "cell_type": "code",
      "metadata": {
        "colab": {
          "base_uri": "https://localhost:8080/"
        },
        "id": "ncqHx4Nd2-cL",
        "outputId": "d3819346-0671-45ae-a0a8-e043760c5c10"
      },
      "source": [
        "import requests,codecs,prettytable\n",
        "from bs4 import BeautifulSoup\n",
        "from datetime import datetime, timedelta\n",
        "\n",
        "now = datetime.now()\n",
        "now = now + timedelta(hours=8)\n",
        "now = now.strftime('%a %b %d %Y %H:%M:%S')\n",
        "# print(now)\n",
        "\n",
        "id_str = f\"{now} GMT+0800 (台北標準時間)\"\n",
        "\n",
        "url = \"https://www.cwb.gov.tw/V8/C/W/TemperatureTop/County_TMax_T.html?ID=\" + id_str #真正網址\n",
        "\n",
        "r1 = requests.get(url, \n",
        "  headers={\n",
        "  \"User-Agent\":\"Mozilla/5.0 (Windows NT 6.1; Win64; x64; rv:93.0) Gecko/20100101 Firefox/93.0\",\n",
        "  \"Cookie\":\"TS010c55bd=0107dddfef2fa81cfbaa7cc22fa47890956477da28385252d558c2d02c99a8df44b8581713dbcf8440d124bc3df64e1fda8df00bb0; TS558d33eb027=08dc4bbcbbab2000a85d1f25a5596c88098b0a43cf87d5b02c3f0e527a7a4799a2aefb0c15f3ec80085cf96135113000ee3339184ab2f8aceb52c8d17a96429dbc7f4709521c1096cc721d79cd09f2f731e60db5d1badd837d1123d30428fc48; _ga_K6HENP0XVS=GS1.1.1634096189.1.1.1634096529.0; _ga=GA1.3.1007165861.1634096190; _gid=GA1.3.247355983.1634096193\"\n",
        "  } \n",
        ")\n",
        "\n",
        "# print(r1.text)\n",
        "\n",
        "b1 = BeautifulSoup(r1.text,\"html.parser\") #html資料解析\n",
        "# print(b1) #確認有資料\n",
        "data = b1.find_all(\"tr\")\n",
        "# print(data) #確認有資料\n",
        "\n",
        "# country = b1.find_all(\"th\",{\"scope\":\"row\"}) #抓縣市\n",
        "# temp = b1.find_all(\"span\",{\"class\":\"tem-C is-active\"}) #抓溫度\n",
        "# print(country,temp) #確認有資料\n",
        "\n",
        "#先做表格\n",
        "t1=prettytable.PrettyTable([\"縣市\",\"溫度(°C)\"], encoding=\"utf8\")\n",
        "t1.align[\"縣市\"]=\"l\"\n",
        "\n",
        "#塞資料\n",
        "\n",
        "for a in data:\n",
        "  country = a.find(\"th\",{\"scope\":\"row\"}).text\n",
        "  temp = a.find(\"span\", {\"class\":\"tem-C is-active\"}).text\n",
        "    # 加資料到prettytable中\n",
        "  t1.add_row([country, temp])\n",
        "\n",
        "#印表格\n",
        "print(t1)\n",
        "\n"
      ],
      "execution_count": null,
      "outputs": [
        {
          "output_type": "stream",
          "name": "stdout",
          "text": [
            "+--------+----------+\n",
            "| 縣市   | 溫度(°C) |\n",
            "+--------+----------+\n",
            "| 基隆市 |   29.3   |\n",
            "| 臺北市 |   30.3   |\n",
            "| 新北市 |   30.4   |\n",
            "| 桃園市 |   32.3   |\n",
            "| 新竹市 |   31.1   |\n",
            "| 新竹縣 |   31.0   |\n",
            "| 苗栗縣 |   32.8   |\n",
            "| 臺中市 |   30.8   |\n",
            "| 彰化縣 |   30.0   |\n",
            "| 南投縣 |   27.5   |\n",
            "| 雲林縣 |   28.4   |\n",
            "| 嘉義市 |   28.0   |\n",
            "| 嘉義縣 |   28.3   |\n",
            "| 臺南市 |   28.7   |\n",
            "| 高雄市 |   30.7   |\n",
            "| 屏東縣 |   29.4   |\n",
            "| 宜蘭縣 |   30.0   |\n",
            "| 花蓮縣 |   27.0   |\n",
            "| 臺東縣 |   27.9   |\n",
            "| 澎湖縣 |   30.5   |\n",
            "| 金門縣 |   33.0   |\n",
            "| 連江縣 |   29.4   |\n",
            "+--------+----------+\n"
          ]
        }
      ]
    },
    {
      "cell_type": "markdown",
      "metadata": {
        "id": "euAhvks_wpcJ"
      },
      "source": [
        "python中时间日期格式化符号：https://www.runoob.com/python/python-date-time.html\n",
        "\n",
        "    %y 两位数的年份表示（00-99）\n",
        "    %Y 四位数的年份表示（000-9999）\n",
        "    %m 月份（01-12）\n",
        "    %d 月内中的一天（0-31）\n",
        "    %H 24小时制小时数（0-23）\n",
        "    %I 12小时制小时数（01-12）\n",
        "    %M 分钟数（00-59）\n",
        "    %S 秒（00-59）\n",
        "    %a 本地简化星期名称\n",
        "    %A 本地完整星期名称\n",
        "    %b 本地简化的月份名称\n",
        "    %B 本地完整的月份名称\n",
        "    %c 本地相应的日期表示和时间表示\n",
        "    %j 年内的一天（001-366）\n",
        "    %p 本地A.M.或P.M.的等价符\n",
        "    %U 一年中的星期数（00-53）星期天为星期的开始\n",
        "    %w 星期（0-6），星期天为星期的开始\n",
        "    %W 一年中的星期数（00-53）星期一为星期的开始\n",
        "    %x 本地相应的日期表示\n",
        "    %X 本地相应的时间表示\n",
        "    %Z 当前时区的名称\n",
        "    %% %号本身\n"
      ]
    }
  ]
}