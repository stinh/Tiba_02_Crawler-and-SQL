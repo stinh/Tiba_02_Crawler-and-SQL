{
  "nbformat": 4,
  "nbformat_minor": 0,
  "metadata": {
    "colab": {
      "name": "00_practice_20211013_crawler-HTML.ipynb",
      "provenance": [],
      "collapsed_sections": [],
      "authorship_tag": "ABX9TyNkaMv6gEkbgbjUtd8jM8eF",
      "include_colab_link": true
    },
    "kernelspec": {
      "display_name": "Python 3",
      "name": "python3"
    },
    "language_info": {
      "name": "python"
    }
  },
  "cells": [
    {
      "cell_type": "markdown",
      "metadata": {
        "id": "view-in-github",
        "colab_type": "text"
      },
      "source": [
        "<a href=\"https://colab.research.google.com/github/stinh/Tiba_02_Crawler-and-SQL/blob/main/00_practice_20211013_crawler_HTML.ipynb\" target=\"_parent\"><img src=\"https://colab.research.google.com/assets/colab-badge.svg\" alt=\"Open In Colab\"/></a>"
      ]
    },
    {
      "cell_type": "code",
      "metadata": {
        "id": "OcxDQ3zAIyTo"
      },
      "source": [
        "import requests\n",
        "from bs4 import BeautifulSoup\n",
        "\n",
        "r1 = requests.get(\n",
        "    \"https://www.cdc.gov.tw/Disease/Index\",\n",
        "    headers={\n",
        "        \"User-Agent\":\"Mozilla/5.0 (Windows NT 6.1; Win64; x64; rv:93.0) Gecko/20100101 Firefox/93.0\",\n",
        "        \"Cookie\":\"_ga=GA1.3.1216450201.1633488665; __RequestVerificationToken=AIS7O2fs6ao3-tAB-kPSUVRJ5YyuLi14ya_Yjx1DnBUdPNFmzqA_ZlP13Jidn_BDORDEJ1YPWiDK6r2xCzX3MF7PJSvnRTW6NUkGsXcMpkc1; _gid=GA1.3.100459636.1634089373\",\n",
        "        \"Accept\":\"text/html,application/xhtml+xml,application/xml;q=0.9,image/avif,image/webp,*/*;q=0.8\"\n",
        "\n",
        "    }    \n",
        ")\n",
        "\n",
        "\n",
        "b1 = BeautifulSoup(r1.text,\"html.parser\")\n",
        "\n",
        "for b2 in b1.find_all(\"ul\",{\"class\":\"infectious_disease_ul\"}):\n",
        "    for b3 in b2.find_all(\"a\"):\n",
        "      d = [\"ㄅ\",\"ㄆ\",\"ㄇ\",\"ㄈ\",\"ㄉ\",\"ㄊ\",\"ㄋ\",\"ㄌ\",\"ㄍ\",\"ㄎ\",\"ㄏ\",\"ㄐ\",\"ㄑ\",\"ㄒ\",\"ㄓ\",\"ㄔ\",\"ㄕ\",\"ㄖ\",\"ㄗ\",\"ㄘ\",\"ㄧ\",\"ㄚ\"]\n",
        "      while d1 in d:\n",
        "        continue\n",
        "        print(b3.text)"
      ],
      "execution_count": null,
      "outputs": []
    },
    {
      "cell_type": "markdown",
      "metadata": {
        "id": "U4JLJ-C5dwp4"
      },
      "source": [
        ""
      ]
    },
    {
      "cell_type": "code",
      "metadata": {
        "id": "MnYSBmqKgrpo"
      },
      "source": [
        "import requests\n",
        "from bs4 import BeautifulSoup\n",
        "\n",
        "r1 = requests.get(\n",
        "    \"https://www.cdc.gov.tw/Disease/Index\",\n",
        "    headers={\n",
        "        \"User-Agent\":\"Mozilla/5.0 (Windows NT 6.1; Win64; x64; rv:93.0) Gecko/20100101 Firefox/93.0\",\n",
        "        \"Cookie\":\"_ga=GA1.3.1216450201.1633488665; __RequestVerificationToken=AIS7O2fs6ao3-tAB-kPSUVRJ5YyuLi14ya_Yjx1DnBUdPNFmzqA_ZlP13Jidn_BDORDEJ1YPWiDK6r2xCzX3MF7PJSvnRTW6NUkGsXcMpkc1; _gid=GA1.3.100459636.1634089373\",\n",
        "        \"Accept\":\"text/html,application/xhtml+xml,application/xml;q=0.9,image/avif,image/webp,*/*;q=0.8\"\n",
        "\n",
        "    }    \n",
        ")\n",
        "\n",
        "b1 = BeautifulSoup(r1.text,\"html.parser\")\n",
        "for b2 in b1.find_all(\"ul\",{\"class\":\"infectious_disease_ul\"}):\n",
        "  for b3 in b2.find_all(\"a\"):\n",
        "    print(b3.text)\n"
      ],
      "execution_count": null,
      "outputs": []
    }
  ]
}