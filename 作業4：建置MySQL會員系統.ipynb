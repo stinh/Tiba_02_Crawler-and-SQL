{
  "nbformat": 4,
  "nbformat_minor": 0,
  "metadata": {
    "colab": {
      "name": "作業4：建置MySQL會員系統.ipynb",
      "provenance": [],
      "collapsed_sections": [],
      "authorship_tag": "ABX9TyO5aRtZUZpF90UZk66oNhK3",
      "include_colab_link": true
    },
    "kernelspec": {
      "name": "python3",
      "display_name": "Python 3"
    },
    "language_info": {
      "name": "python"
    }
  },
  "cells": [
    {
      "cell_type": "markdown",
      "metadata": {
        "id": "view-in-github",
        "colab_type": "text"
      },
      "source": [
        "<a href=\"https://colab.research.google.com/github/stinh/Tiba_practice/blob/main/%E4%BD%9C%E6%A5%AD4%EF%BC%9A%E5%BB%BA%E7%BD%AEMySQL%E6%9C%83%E5%93%A1%E7%B3%BB%E7%B5%B1.ipynb\" target=\"_parent\"><img src=\"https://colab.research.google.com/assets/colab-badge.svg\" alt=\"Open In Colab\"/></a>"
      ]
    },
    {
      "cell_type": "markdown",
      "metadata": {
        "id": "wmT1gyffBUxh"
      },
      "source": [
        " 用Python搭配MySQL製作一個會員管理系統，須具備新增、刪除和修改會員的功能。\n",
        " 會員的資料欄位至少需要包含姓名、生日、地址等三個欄位。\n",
        " 繳交程式碼檔案。\n"
      ]
    },
    {
      "cell_type": "code",
      "metadata": {
        "colab": {
          "base_uri": "https://localhost:8080/"
        },
        "id": "tuBuzbEMBHL8",
        "outputId": "2393aeb3-8573-4ad0-a8bb-c85e597c5fc9"
      },
      "source": [
        "!pip install pymysql"
      ],
      "execution_count": null,
      "outputs": [
        {
          "output_type": "stream",
          "name": "stdout",
          "text": [
            "Requirement already satisfied: pymysql in /usr/local/lib/python3.7/dist-packages (1.0.2)\n"
          ]
        }
      ]
    },
    {
      "cell_type": "markdown",
      "metadata": {
        "id": "rpcC-mGdyxu8"
      },
      "source": [
        "資料庫連線"
      ]
    },
    {
      "cell_type": "code",
      "metadata": {
        "colab": {
          "base_uri": "https://localhost:8080/"
        },
        "id": "kKAVvlfBC5Kf",
        "outputId": "30bb4952-ca01-4804-f842-0065c8f21591"
      },
      "source": [
        "import pymysql\n",
        "\n",
        "id = input(\"請輸入帳號：\")\n",
        "pw = input(\"請輸入密碼：\")\n",
        "\n",
        "link = pymysql.connect(\n",
        "    host=\"teaching-db.bo-yuan.net\",\n",
        "    user=id,\n",
        "    passwd=pw,\n",
        "    db=\"AI09_18\",\n",
        "    charset=\"utf8\",\n",
        "    port=3306\n",
        ")\n",
        "\n",
        "cur = link.cursor()"
      ],
      "execution_count": null,
      "outputs": [
        {
          "name": "stdout",
          "output_type": "stream",
          "text": [
            "請輸入帳號：AI09_18\n",
            "請輸入密碼：123\n"
          ]
        }
      ]
    },
    {
      "cell_type": "markdown",
      "metadata": {
        "id": "D4qeNXowy35a"
      },
      "source": [
        "執行選單"
      ]
    },
    {
      "cell_type": "code",
      "metadata": {
        "id": "VY4_JdebKAqW"
      },
      "source": [
        "while True:\n",
        "\n",
        "  option = int(input(\"代碼  指令說明 \\n 0    離開程式\\n 1    顯示會員列表\\n 2    新增會員資料\\n 3    更新會員資料\\n 4    刪除會員資料\\n\\n 請輸入代碼：\"))\n",
        "\n",
        "  if option==1:\n",
        "    import prettytable\n",
        "    cur.execute(\"SELECT * FROM `member` ORDER BY `ID` ASC\")\n",
        "    r=cur.fetchall()\n",
        "    table = prettytable.PrettyTable([\"會員號\", \"姓名\", \"生日\", \"地址\"], encoding=\"utf8\")\n",
        "    table.align[\"Title\"]=\"c\"\n",
        "    for data in r:\n",
        "      table.add_row([data[0],data[1],data[2],data[3]])\n",
        "    print(table)\n",
        "\n",
        "  elif option==2:\n",
        "    cur.execute(\n",
        "    \"INSERT INTO `member`(`name`, `birthday`, `address`) VALUES(%(x)s,%(y)s,%(z)s)\",\n",
        "    {\"x\":input(\"姓名：\"),\"y\":input(\"生日：\"),\"z\":input(\"地址：\")})\n",
        "    link.commit()\n",
        "\n",
        "\n",
        "  elif option==3:\n",
        "    cur=link.cursor()\n",
        "    id = input(\"請選擇你要修改的資料編號：\")\n",
        "    name = input(\"請輸入姓名：\")\n",
        "    birthday = input(\"請輸入生日：\")\n",
        "    address = input(\"請輸入地址：\")\n",
        "    cur.execute(\"UPDATE `member` SET `name`=%s,`birthday`=%s,`address`=%s WHERE `id`=%s\",[name,birthday,address,int(id)])\n",
        "    link.commit()\n",
        "\n",
        "\n",
        "  elif option==4:\n",
        "    cur=link.cursor()\n",
        "    id = input(\"請選擇你要刪除的資料編號：\")\n",
        "    cur.execute(\"DELETE FROM `member` WHERE `id`=%s\",[int(id)])\n",
        "    link.commit()\n",
        "  \n",
        "  else:\n",
        "    import os\n",
        "    os.system('cls')\n",
        "    break\n",
        "    link.close()\n",
        "\n",
        "\n",
        "\n"
      ],
      "execution_count": null,
      "outputs": []
    },
    {
      "cell_type": "markdown",
      "metadata": {
        "id": "Oiw0p6zK-jUl"
      },
      "source": [
        "**============以下先分開寫，再想怎樣整併============**"
      ]
    },
    {
      "cell_type": "markdown",
      "metadata": {
        "id": "4TpZNh0zy8d5"
      },
      "source": [
        "會員資料查詢(顯示會員列表：1)"
      ]
    },
    {
      "cell_type": "code",
      "metadata": {
        "id": "hn3sZWaTUYEf"
      },
      "source": [
        "# import prettytable\n",
        "\n",
        "# cur.execute(\"SELECT * FROM `member` ORDER BY `ID` ASC\") #搜尋全部，用會員號排序小到大\n",
        "\n",
        "# r=cur.fetchall()\n",
        "\n",
        "# # print(r)  #tuple格式，要轉表格\n",
        "\n",
        "# table = prettytable.PrettyTable([\"會員號\", \"姓名\", \"生日\", \"地址\"], encoding=\"utf8\")\n",
        "# table.align[\"Title\"]=\"c\"\n",
        "\n",
        "# for data in r:\n",
        "#   table.add_row([data[0],data[1],data[2],data[3]])\n",
        "# print(table)"
      ],
      "execution_count": null,
      "outputs": []
    },
    {
      "cell_type": "markdown",
      "metadata": {
        "id": "GRi4jNHBzJKW"
      },
      "source": [
        "新增會員資料：2"
      ]
    },
    {
      "cell_type": "code",
      "metadata": {
        "id": "ErTu8s0hz6S-"
      },
      "source": [
        "# cur.execute(\n",
        "#   \"INSERT INTO `member`(`name`, `birthday`, `address`) VALUES(%(x)s,%(y)s,%(z)s)\",\n",
        "#   {\"x\":input(\"姓名：\"),\"y\":input(\"生日：\"),\"z\":input(\"地址：\")})\n",
        "\n",
        "\n",
        "# link.commit()\n",
        "# # print(cur.lastrowid)"
      ],
      "execution_count": null,
      "outputs": []
    },
    {
      "cell_type": "markdown",
      "metadata": {
        "id": "mMAGM-hW-AHN"
      },
      "source": [
        "更新會員資料：3"
      ]
    },
    {
      "cell_type": "code",
      "metadata": {
        "id": "q434qWkI-GgX"
      },
      "source": [
        "# cur=link.cursor()\n",
        "# id = input(\"請選擇你要修改的資料編號：\")\n",
        "# name = input(\"請輸入姓名：\")\n",
        "# birthday = input(\"請輸入生日：\")\n",
        "# address = input(\"請輸入地址：\")\n",
        "\n",
        "# cur.execute(\"UPDATE `member` SET `name`=%s,`birthday`=%s,`address`=%s WHERE `id`=%s\",[name,birthday,address,int(id)])\n",
        "\n",
        "# link.commit()"
      ],
      "execution_count": null,
      "outputs": []
    },
    {
      "cell_type": "markdown",
      "metadata": {
        "id": "pexJb4WKADeU"
      },
      "source": [
        "刪除資料：4"
      ]
    },
    {
      "cell_type": "code",
      "metadata": {
        "id": "p7Av1-09AH6V"
      },
      "source": [
        "# cur=link.cursor()\n",
        "# id = input(\"請選擇你要刪除的資料編號：\")\n",
        "\n",
        "# cur.execute(\"DELETE FROM `member` WHERE `id`=%s\",[int(id)])\n",
        "\n",
        "# link.commit()\n"
      ],
      "execution_count": null,
      "outputs": []
    },
    {
      "cell_type": "code",
      "metadata": {
        "id": "_X__ne-VGc7x"
      },
      "source": [
        "# link.close()"
      ],
      "execution_count": null,
      "outputs": []
    }
  ]
}