{
  "nbformat": 4,
  "nbformat_minor": 0,
  "metadata": {
    "colab": {
      "name": "00_practice_20211008_crawler-JSON.ipynb",
      "provenance": [],
      "collapsed_sections": [],
      "authorship_tag": "ABX9TyNytZfY69kh3AkkcHOc5nVD",
      "include_colab_link": true
    },
    "kernelspec": {
      "name": "python3",
      "display_name": "Python 3"
    },
    "language_info": {
      "name": "python"
    }
  },
  "cells": [
    {
      "cell_type": "markdown",
      "metadata": {
        "id": "view-in-github",
        "colab_type": "text"
      },
      "source": [
        "<a href=\"https://colab.research.google.com/github/stinh/Tiba_02_Crawler-and-SQL/blob/main/00_practice_20211008_crawler_JSON.ipynb\" target=\"_parent\"><img src=\"https://colab.research.google.com/assets/colab-badge.svg\" alt=\"Open In Colab\"/></a>"
      ]
    },
    {
      "cell_type": "code",
      "metadata": {
        "id": "PC5NRhnlc_CF"
      },
      "source": [
        "import requests,csv,io\n",
        "r1 = requests.get(\"https://data.moi.gov.tw/MoiOD/System/DownloadFile.aspx?DATA=929BF04F-15E7-4B59-BB41-1A3D63F5A5E7\")\n",
        "r1.encoding = \"utf-8\"\n",
        "# print (r1.text)\n",
        "# print(list(csv.reader(io.StringIO(r1.text))))\n",
        "d = list(csv.reader(io.StringIO(r1.text)))\n",
        "for a in d:\n",
        "  if len(a)>4: #解決資料有空值造成的錯誤,長度要跟下面列出最末位數一致\n",
        "    print(a[2],a[4])"
      ],
      "execution_count": null,
      "outputs": []
    },
    {
      "cell_type": "code",
      "metadata": {
        "id": "Myc_F5iWeJix"
      },
      "source": [
        "import requests,csv,io #多筆import 可以用,分隔\n",
        "# import csv,io\n",
        "r1 = requests.get(\"https://data.moi.gov.tw/MoiOD/System/DownloadFile.aspx?DATA=FE36D46D-807B-4DCB-BE89-2BC078DD6EF1\")\n",
        "# print (r1.text)\n",
        "d = list(csv.reader(io.StringIO(r1.text)))\n",
        "# print(d)\n",
        "for a in d:\n",
        "  # print(a)\n",
        "  print(a[0],a[2])"
      ],
      "execution_count": null,
      "outputs": []
    },
    {
      "cell_type": "code",
      "metadata": {
        "id": "mp9Aj9kNxLKu"
      },
      "source": [
        "import requests,json\n",
        "r1 = requests.get(\"https://api.1922.gov.tw/vab-opendata/api/waitingAmountByCity\")\n",
        "d = json.loads(r1.text)\n",
        "# for a in d: #第一層是字串，直接往下抓資料\n",
        "#   print(a[\"編號\"])\n",
        "\n",
        "print(\"city\",\"高端\",\"BNT\",\"AZ\") # 印表頭\n",
        "for a in d[\"result\"]: #第一層是字典，要先設定要在哪標題底下抓資料，a就是該標題階層的資料\n",
        "    print(a[\"city\"],a[\"vaccine\"][\"高端\"],a[\"vaccine\"][\"BNT\"],a[\"vaccine\"][\"AZ\"])\n",
        "  "
      ],
      "execution_count": null,
      "outputs": []
    },
    {
      "cell_type": "code",
      "metadata": {
        "id": "mlxlmfvq6rCM"
      },
      "source": [
        "r1=requests.get(\"https://datacenter.taichung.gov.tw/swagger/OpenData/997d7dfb-3d93-437c-bb57-8e5dd027cb79\")\n",
        "d=json.loads(r1.text)\n",
        "for i in range(1,8,1): #印表頭，自動編號\n",
        "  print(\"金額\"+str(i),end=\"\\t\")\n",
        "print(\"\")\n",
        "for a in d:\n",
        "  for i in range(1,8,1):\n",
        "    print(a[\"金額\"+str(i)],end=\"\\t\")\n",
        "  print(\"\")"
      ],
      "execution_count": null,
      "outputs": []
    },
    {
      "cell_type": "code",
      "metadata": {
        "id": "6Ks3fMFM7XaA"
      },
      "source": [
        "r1=requests.get(\"https://www.twse.com.tw/rsrc/data/zh/home/yields.json\",params={\"_\":\"163366517423\"})\n",
        "d=json.loads(r1.text)\n",
        "for i in range(1,4,1):\n",
        "  print(d[\"chart1\"][\"table\"+str(i)][\"title\"])\n",
        "  for a in d[\"chart1\"][\"table\"+str(i)][\"data\"]:\n",
        "    print(a[0],a[1])\n",
        "  print(\"\")"
      ],
      "execution_count": null,
      "outputs": []
    },
    {
      "cell_type": "code",
      "metadata": {
        "id": "3w9ENwDjaPAQ"
      },
      "source": [
        "r1=requests.get(\n",
        "  \"https://www.twse.com.tw/exchangeReport/BFIAMU\",\n",
        "  params={\n",
        "    \"_\":\"1633672088924\",\n",
        "    \"date\":\"20210601\",\n",
        "    \"response\":\"json\"\n",
        "  }\n",
        ")\n",
        "d=json.loads(r1.text)\n",
        "for a in d[\"data\"]:\n",
        "  print(a[0],a[1])"
      ],
      "execution_count": null,
      "outputs": []
    },
    {
      "cell_type": "code",
      "metadata": {
        "id": "3Lae033-d-90",
        "colab": {
          "base_uri": "https://localhost:8080/"
        },
        "outputId": "cce4d61f-0132-4847-d94c-86cc549f8230"
      },
      "source": [
        "import prettytable\n",
        "t1=prettytable.PrettyTable([\"ID\",\"Title\"], encoding=\"utf8\")\n",
        "t1.align[\"Title\"]=\"l\"\n",
        "t1.add_row([\"1\",\"AAA\"])\n",
        "t1.add_row([\"2\",\"BBB\"])\n",
        "t1.add_row([\"3\",\"CCC\"])\n",
        "print(t1)"
      ],
      "execution_count": null,
      "outputs": [
        {
          "output_type": "stream",
          "name": "stdout",
          "text": [
            "+----+-------+\n",
            "| ID | Title |\n",
            "+----+-------+\n",
            "| 1  | AAA   |\n",
            "| 2  | BBB   |\n",
            "| 3  | CCC   |\n",
            "+----+-------+\n"
          ]
        }
      ]
    },
    {
      "cell_type": "code",
      "metadata": {
        "id": "o1L7oWpBZKUl"
      },
      "source": [
        "#單機版適用\n",
        "\n",
        "!pip install colorama\n",
        "import colorama\n",
        "colorama.init(True)\n",
        "print(colorama.Fore.RED+\"ABC\")"
      ],
      "execution_count": null,
      "outputs": []
    },
    {
      "cell_type": "code",
      "metadata": {
        "id": "PSml6eWW5t4I"
      },
      "source": [
        "import prettytable\n",
        "r1=requests.get(\"https://datacenter.taichung.gov.tw/swagger/OpenData/997d7dfb-3d93-437c-bb57-8e5dd027cb79\")\n",
        "d=json.loads(r1.text)\n",
        "title=[]\n",
        "for i in range(1,8,1):\n",
        "  title+=[\"金額\"+str(i)]\n",
        "t1=prettytable.PrettyTable(title, encoding=\"utf8\")\n",
        "for a in d:\n",
        "  data=[]\n",
        "  for i in range(1,8,1):\n",
        "    data+=[a[\"金額\"+str(i)]]\n",
        "  t1.add_row(data)\n",
        "print(t1)"
      ],
      "execution_count": null,
      "outputs": []
    }
  ]
}