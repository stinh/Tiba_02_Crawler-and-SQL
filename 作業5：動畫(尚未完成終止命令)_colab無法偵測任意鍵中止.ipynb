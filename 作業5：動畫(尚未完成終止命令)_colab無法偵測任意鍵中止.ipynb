{
  "nbformat": 4,
  "nbformat_minor": 0,
  "metadata": {
    "colab": {
      "name": "作業5：動畫(尚未完成終止命令)_colab無法偵測任意鍵中止.ipynb",
      "provenance": [],
      "collapsed_sections": [],
      "authorship_tag": "ABX9TyOn5JS61giPs76BW45LqjLM",
      "include_colab_link": true
    },
    "kernelspec": {
      "name": "python3",
      "display_name": "Python 3"
    },
    "language_info": {
      "name": "python"
    }
  },
  "cells": [
    {
      "cell_type": "markdown",
      "metadata": {
        "id": "view-in-github",
        "colab_type": "text"
      },
      "source": [
        "<a href=\"https://colab.research.google.com/github/stinh/Tiba_practice/blob/main/%E4%BD%9C%E6%A5%AD5%EF%BC%9A%E5%8B%95%E7%95%AB(%E5%B0%9A%E6%9C%AA%E5%AE%8C%E6%88%90%E7%B5%82%E6%AD%A2%E5%91%BD%E4%BB%A4)_colab%E7%84%A1%E6%B3%95%E5%81%B5%E6%B8%AC%E4%BB%BB%E6%84%8F%E9%8D%B5%E4%B8%AD%E6%AD%A2.ipynb\" target=\"_parent\"><img src=\"https://colab.research.google.com/assets/colab-badge.svg\" alt=\"Open In Colab\"/></a>"
      ]
    },
    {
      "cell_type": "markdown",
      "metadata": {
        "id": "jrRARxsYSuPV"
      },
      "source": [
        "\n",
        "寫一個動畫的程式。程式中有一個方形會在左右兩端來回的跑。直到按下任意按鍵為止，否則程式不會結束。 "
      ]
    },
    {
      "cell_type": "code",
      "metadata": {
        "id": "Fz11SeINTD4y"
      },
      "source": [
        "import cv2, time, sys, threading\n",
        "# import pygame\n",
        "import numpy as np\n",
        "import IPython.display as dp\n",
        "from PIL import ImageFont, ImageDraw, Image\n",
        "from google.colab.patches import cv2_imshow"
      ],
      "execution_count": null,
      "outputs": []
    },
    {
      "cell_type": "code",
      "metadata": {
        "colab": {
          "base_uri": "https://localhost:8080/"
        },
        "id": "L7zimlo17GXc",
        "outputId": "f8b69ba8-0dc7-4a48-e8c7-b8a02a548492"
      },
      "source": [
        "!pip install keyboard"
      ],
      "execution_count": null,
      "outputs": [
        {
          "output_type": "stream",
          "name": "stdout",
          "text": [
            "Requirement already satisfied: keyboard in /usr/local/lib/python3.7/dist-packages (0.13.5)\n"
          ]
        }
      ]
    },
    {
      "cell_type": "code",
      "metadata": {
        "colab": {
          "base_uri": "https://localhost:8080/",
          "height": 130
        },
        "id": "ViCV1ZTtP82z",
        "outputId": "852c4b5a-7b32-46d5-bd25-9703ddea2bcf"
      },
      "source": [
        "# from msvcrt import getch "
      ],
      "execution_count": null,
      "outputs": [
        {
          "output_type": "error",
          "ename": "SyntaxError",
          "evalue": "ignored",
          "traceback": [
            "\u001b[0;36m  File \u001b[0;32m\"<ipython-input-63-97d0c4ed782b>\"\u001b[0;36m, line \u001b[0;32m1\u001b[0m\n\u001b[0;31m    import py-getch\u001b[0m\n\u001b[0m             ^\u001b[0m\n\u001b[0;31mSyntaxError\u001b[0m\u001b[0;31m:\u001b[0m invalid syntax\n"
          ]
        }
      ]
    },
    {
      "cell_type": "code",
      "metadata": {
        "colab": {
          "base_uri": "https://localhost:8080/"
        },
        "id": "qiY-ZpHlQgKj",
        "outputId": "eed0b1e2-1fe8-4aa8-e691-0760dfeb77aa"
      },
      "source": [
        "pip install py-getch"
      ],
      "execution_count": null,
      "outputs": [
        {
          "output_type": "stream",
          "name": "stdout",
          "text": [
            "Collecting py-getch\n",
            "  Downloading py-getch-1.0.1.zip (6.2 kB)\n",
            "Building wheels for collected packages: py-getch\n",
            "  Building wheel for py-getch (setup.py) ... \u001b[?25l\u001b[?25hdone\n",
            "  Created wheel for py-getch: filename=py_getch-1.0.1-py3-none-any.whl size=3590 sha256=8fcbbc6ea613a6c4ef2826c8792ce4d9cda19796ddca71932ec51ea1e1559f4f\n",
            "  Stored in directory: /root/.cache/pip/wheels/47/95/88/b86e67b301a76acdd520688185d6b3ec78e15fc35dd6f81195\n",
            "Successfully built py-getch\n",
            "Installing collected packages: py-getch\n",
            "Successfully installed py-getch-1.0.1\n"
          ]
        }
      ]
    },
    {
      "cell_type": "code",
      "metadata": {
        "colab": {
          "base_uri": "https://localhost:8080/",
          "height": 530
        },
        "id": "KEIE5WmsJNUc",
        "outputId": "e1625acd-7d23-4e9a-96c4-42f8ee8ee77c"
      },
      "source": [
        "m1=np.full((300, 500, 3), (255,255,255), np.uint8)\n",
        "\n",
        "p1=cv2.VideoWriter(\"1.mp4\", cv2.VideoWriter_fourcc(*'MP4V'), 24, (500,500)) \n",
        "\n",
        "def quit_on_user_input():\n",
        "  input = input(\"Press any key to quit.\")\n",
        "  sys.exit(0)\n",
        "\n",
        "if quit_on_user_input==\"\":\n",
        "  sys.exit(0)\n",
        "\n",
        "  \n",
        "else:\n",
        "  while True:\n",
        "    for w in range(0,435,15):\n",
        "      m1=np.full((300, 500, 3), (255,255,255), np.uint8)\n",
        "      dp.clear_output(True) \n",
        "      cv2.rectangle(m1, (0+w,80),(80+w,160),(230,125,100), -1)\n",
        "      cv2_imshow(m1)\n",
        "      # p1.write(m1)\n",
        "      time.sleep(0.3) \n",
        "\n",
        "    for w in range(0,435,15):\n",
        "      m1=np.full((300, 500, 3), (255,255,255), np.uint8)\n",
        "      dp.clear_output(True) \n",
        "      cv2.rectangle(m1, (420-w,80),(500-w,160),(230,125,100), -1)\n",
        "      cv2_imshow(m1)\n",
        "      # p1.write(m1)\n",
        "      time.sleep(0.3) \n",
        "      \n",
        "      t+=1\n",
        "\n",
        "p1.release()  \n"
      ],
      "execution_count": null,
      "outputs": [
        {
          "output_type": "display_data",
          "data": {
            "image/png": "[encoded data removed]",
            "text/plain": [
              "<PIL.Image.Image image mode=RGB size=500x300 at 0x7FE7DA3BC1D0>"
            ]
          },
          "metadata": {}
        },
        {
          "output_type": "error",
          "ename": "KeyboardInterrupt",
          "evalue": "ignored",
          "traceback": [
            "\u001b[0;31m---------------------------------------------------------------------------\u001b[0m",
            "\u001b[0;31mKeyboardInterrupt\u001b[0m                         Traceback (most recent call last)",
            "\u001b[0;32m<ipython-input-57-d09f923efd41>\u001b[0m in \u001b[0;36m<module>\u001b[0;34m()\u001b[0m\n\u001b[1;32m     19\u001b[0m       \u001b[0mcv2_imshow\u001b[0m\u001b[0;34m(\u001b[0m\u001b[0mm1\u001b[0m\u001b[0;34m)\u001b[0m\u001b[0;34m\u001b[0m\u001b[0;34m\u001b[0m\u001b[0m\n\u001b[1;32m     20\u001b[0m       \u001b[0;31m# p1.write(m1)\u001b[0m\u001b[0;34m\u001b[0m\u001b[0;34m\u001b[0m\u001b[0;34m\u001b[0m\u001b[0m\n\u001b[0;32m---> 21\u001b[0;31m       \u001b[0mtime\u001b[0m\u001b[0;34m.\u001b[0m\u001b[0msleep\u001b[0m\u001b[0;34m(\u001b[0m\u001b[0;36m0.3\u001b[0m\u001b[0;34m)\u001b[0m\u001b[0;34m\u001b[0m\u001b[0;34m\u001b[0m\u001b[0m\n\u001b[0m\u001b[1;32m     22\u001b[0m \u001b[0;34m\u001b[0m\u001b[0m\n\u001b[1;32m     23\u001b[0m     \u001b[0;32mfor\u001b[0m \u001b[0mw\u001b[0m \u001b[0;32min\u001b[0m \u001b[0mrange\u001b[0m\u001b[0;34m(\u001b[0m\u001b[0;36m0\u001b[0m\u001b[0;34m,\u001b[0m\u001b[0;36m435\u001b[0m\u001b[0;34m,\u001b[0m\u001b[0;36m15\u001b[0m\u001b[0;34m)\u001b[0m\u001b[0;34m:\u001b[0m\u001b[0;34m\u001b[0m\u001b[0;34m\u001b[0m\u001b[0m\n",
            "\u001b[0;31mKeyboardInterrupt\u001b[0m: "
          ]
        }
      ]
    },
    {
      "cell_type": "code",
      "metadata": {
        "id": "7egVI-daBx97"
      },
      "source": [
        "def quit_on_user_input():\n",
        "    input = raw_input(\"Press any key to quit.\")\n",
        "    # thread will lock up and wait for user to input. That's why this is on a separate thread.\n",
        "    sys.exit(0)\n",
        "\n",
        "# quit_thread = threading.Thread(target=quit_on_user_input, args=[])\n",
        "# quit_trhead.start()\n",
        "# # The rest of your code. quit_thread will run in the background and therefor won't lock up your main thread."
      ],
      "execution_count": null,
      "outputs": []
    },
    {
      "cell_type": "code",
      "metadata": {
        "id": "EhYY6TdCdryu"
      },
      "source": [
        "def quit_on_user_input():\n",
        "    input = raw_input(\"Press any key to quit.\")\n",
        "    # thread will lock up and wait for user to input. That's why this is on a separate thread.\n",
        "    sys.exit(0)\n",
        "\n",
        "# quit_thread = threading.Thread(target=quit_on_user_input, args=[])\n",
        "# quit_trhead.start()\n",
        "# # The rest of your code. quit_thread will run in the background and therefor won't lock up your main thread."
      ],
      "execution_count": null,
      "outputs": []
    },
    {
      "cell_type": "markdown",
      "metadata": {
        "id": "TWcqDBK06dxR"
      },
      "source": [
        "**完成動畫，但還沒找到終止指令**"
      ]
    },
    {
      "cell_type": "code",
      "metadata": {
        "id": "-qAy7q1NQFSz"
      },
      "source": [
        "# m1=np.full((300, 500, 3), (255,255,255), np.uint8)\n",
        "\n",
        "# p1=cv2.VideoWriter(\"1.mp4\", cv2.VideoWriter_fourcc(*'MP4V'), 24, (500,500)) \n",
        "\n",
        "\n",
        "t=0\n",
        "\n",
        "\n",
        "\n",
        "while True:\n",
        "  \n",
        "  for w in range(0,435,15):\n",
        "    m1=np.full((300, 500, 3), (255,255,255), np.uint8)\n",
        "    dp.clear_output(True) \n",
        "    cv2.rectangle(m1, (0+w,80),(80+w,160),(230,125,100), -1)\n",
        "    cv2_imshow(m1)\n",
        "    # p1.write(m1)\n",
        "    time.sleep(0.3) \n",
        "\n",
        "  for w in range(0,435,15):\n",
        "    m1=np.full((300, 500, 3), (255,255,255), np.uint8)\n",
        "    dp.clear_output(True) \n",
        "    cv2.rectangle(m1, (420-w,80),(500-w,160),(230,125,100), -1)\n",
        "    cv2_imshow(m1)\n",
        "    # p1.write(m1)\n",
        "    time.sleep(0.3) \n",
        "    \n",
        "    t+=1\n",
        "\n",
        "\n",
        "p1.release()  \n"
      ],
      "execution_count": null,
      "outputs": []
    }
  ]
}