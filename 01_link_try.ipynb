{
  "nbformat": 4,
  "nbformat_minor": 0,
  "metadata": {
    "colab": {
      "name": "01_link_try.ipynb",
      "provenance": [],
      "collapsed_sections": [],
      "authorship_tag": "ABX9TyPJAtfWKNIq0LPtFyJwq5aP",
      "include_colab_link": true
    },
    "kernelspec": {
      "name": "python3",
      "display_name": "Python 3"
    },
    "language_info": {
      "name": "python"
    }
  },
  "cells": [
    {
      "cell_type": "markdown",
      "metadata": {
        "id": "view-in-github",
        "colab_type": "text"
      },
      "source": [
        "<a href=\"https://colab.research.google.com/github/stinh/Tiba_02_SQL/blob/main/01_link_try.ipynb\" target=\"_parent\"><img src=\"https://colab.research.google.com/assets/colab-badge.svg\" alt=\"Open In Colab\"/></a>"
      ]
    },
    {
      "cell_type": "markdown",
      "metadata": {
        "id": "F7NVN4hhlYD6"
      },
      "source": [
        "使用requestsrequests requests指令連線至網址：\n",
        "http://teaching.XXXXXXXXXXXXXx/test/requests/\n",
        "運用各種呼叫方式找尋答案。"
      ]
    },
    {
      "cell_type": "code",
      "metadata": {
        "id": "MMM7PVkI8prf",
        "colab": {
          "base_uri": "https://localhost:8080/"
        },
        "outputId": "cbd21c72-637b-403c-9251-0dc9f699a316"
      },
      "source": [
        "import requests\n",
        "ur = \"http://teaching.XXXXXXX/test/requests/\" \n",
        "headers={\n",
        "    \"Cookie\":\"PHPSESSID=XXXXXXXXXXXXXXXXXXXXX\",\n",
        "    \"User-Agent\":\"Mozilla/5.0 (Windows NT 6.1; Win64; x64; rv:93.0) Gecko/20100101 Firefox/93.0\"\n",
        "    }\n",
        "\n",
        "params={\"action\":\"act\"}\n",
        "\n",
        "data={\"id\":\"aaa\"}\n",
        "\n",
        "re = requests.get(ur,headers) #缺少參數「action」。\n",
        "re = requests.put(ur,params) \n",
        "re = requests.get(ur,params) #需要DELETE的操作。\n",
        "\n",
        "re = requests.delete(\n",
        "    \"http://teaching.XXXXXXXXXX/test/requests/\",\n",
        "    headers={\n",
        "    \"Cookie\":\"PHPSESSID=XXXXXXXXXXXXXX\",\n",
        "    \"User-Agent\":\"Mozilla/5.0 (Windows NT 6.1; Win64; x64; rv:93.0) Gecko/20100101 Firefox/93.0\"\n",
        "    },\n",
        "    params={\"action\":\"act\"}\n",
        "    )  #缺少資料「id」\n",
        "\n",
        "# re = requests.put(ur,data)\n",
        "# re = requests.post(ur,data)\n",
        "\n",
        "re = requests.put(\n",
        "    \"http://teaching.XXXXXXXXXX/test/requests/\",\n",
        "    headers={\n",
        "    \"Cookie\":\"PHPSESSID=XXXXXXXXXXX\",\n",
        "    \"User-Agent\":\"Mozilla/5.0 (Windows NT 6.1; Win64; x64; rv:93.0) Gecko/20100101 Firefox/93.0\"\n",
        "    },\n",
        "    params={\"action\":\"act\"},\n",
        "    data={\"id\":\"aaa\"}\n",
        "    )  #需要更新資料「name」。\n",
        "\n",
        "re = requests.put(\n",
        "    \"http://teaching.XXXXXXXXXX/test/requests/\",\n",
        "    headers={\n",
        "    \"Cookie\":\"PHPSESSID=XXXXXXXXXXX\",\n",
        "    \"User-Agent\":\"Mozilla/5.0 (Windows NT 6.1; Win64; x64; rv:93.0) Gecko/20100101 Firefox/93.0\"\n",
        "    },\n",
        "    params={\"action\":\"act\"},\n",
        "    data={\"id\":\"aaa\",\"name\":\"bbb\"}\n",
        "    )  #PUT完了，也要PATCH資料。\n",
        "\n",
        "re = requests.patch(\n",
        "    \"http://teaching.XXXXXXXXXX/test/requests/\",\n",
        "    headers={\n",
        "    \"Cookie\":\"PHPSESSID=XXXXXXXXXXX\",\n",
        "    \"User-Agent\":\"Mozilla/5.0 (Windows NT 6.1; Win64; x64; rv:93.0) Gecko/20100101 Firefox/93.0\"\n",
        "    },\n",
        "    params={\"action\":\"act\"},\n",
        "    # data={\"id\":\"aaa\",\"name\":\"bbb\"}  #需要PATCH的資料是「address」\n",
        "    data={\"id\":\"aaa\",\"name\":\"bbb\",\"address\":\"add\"}\n",
        "    )   #最後POST一筆資料吧。\n",
        "\n",
        "\n",
        "re = requests.post(\n",
        "    \"http://teaching.XXXXXXXXXX/test/requests/\",\n",
        "    headers={\n",
        "    \"Cookie\":\"PHPSESSID=XXXXXXXXXXX\",\n",
        "    \"User-Agent\":\"Mozilla/5.0 (Windows NT 6.1; Win64; x64; rv:93.0) Gecko/20100101 Firefox/93.0\"\n",
        "    },\n",
        "    params={\"action\":\"act\"},\n",
        "    # data={\"id\":\"aaa\",\"name\":\"bbb\"}   #需要PATCH的資料是「address」\n",
        "    data={\"id\":\"aaa\",\"name\":\"bbb\",\"address\":\"add\"}\n",
        "    )    #哈哈，答對了，請把操作過程中的所有指令保留在程式碼中，將檔案繳交上來。\n",
        "\n",
        "\n",
        "\n",
        "re.encoding='utf-8'\n",
        "print(re.text)\n"
      ],
      "execution_count": null,
      "outputs": [
        {
          "output_type": "stream",
          "name": "stdout",
          "text": [
            "哈哈，答對了，請把操作過程中的所有指令保留在程式碼中，將檔案繳交上來。\n"
          ]
        }
      ]
    }
  ]
}