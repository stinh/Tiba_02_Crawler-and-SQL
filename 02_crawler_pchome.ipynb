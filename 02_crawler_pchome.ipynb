{
  "nbformat": 4,
  "nbformat_minor": 0,
  "metadata": {
    "colab": {
      "name": "02_crawler_pchome.ipynb",
      "provenance": [],
      "collapsed_sections": [],
      "authorship_tag": "ABX9TyPiYGadY4SVUR9gpp9hJA9P",
      "include_colab_link": true
    },
    "kernelspec": {
      "name": "python3",
      "display_name": "Python 3"
    },
    "language_info": {
      "name": "python"
    }
  },
  "cells": [
    {
      "cell_type": "markdown",
      "metadata": {
        "id": "view-in-github",
        "colab_type": "text"
      },
      "source": [
        "<a href=\"https://colab.research.google.com/github/stinh/Tiba_02_SQL/blob/main/02_crawler_pchome.ipynb\" target=\"_parent\"><img src=\"https://colab.research.google.com/assets/colab-badge.svg\" alt=\"Open In Colab\"/></a>"
      ]
    },
    {
      "cell_type": "markdown",
      "metadata": {
        "id": "MMBVfhc4b0_A"
      },
      "source": [
        " 為「 PCHome PCHome 線上購物 」建立 一個的 商品搜尋程式 。\n",
        " 網址:https://shopping.pchome.com.tw"
      ]
    },
    {
      "cell_type": "code",
      "metadata": {
        "id": "ECkxDEIvb4VT",
        "colab": {
          "base_uri": "https://localhost:8080/"
        },
        "outputId": "b1166fd2-5879-4ca0-e45c-0887c1cdd8f1"
      },
      "source": [
        "import requests,json,prettytable,sys\n",
        "\n",
        "\n",
        "t=0\n",
        "while True:\n",
        "\n",
        "\n",
        "  s = input(\"請輸入搜尋關鍵字：\")\n",
        "  \n",
        "\n",
        "  if s !=\"\":  #防空值\n",
        "    s = s\n",
        "\n",
        "    t = 1\n",
        "    while t != 0:\n",
        "\n",
        "      p = int(input(\"前往查詢結果頁碼：\"))\n",
        "\n",
        "      \n",
        "      t+=1\n",
        "\n",
        "\n",
        "      r1 = requests.get(\"https://ecshweb.pchome.com.tw/search/v3.3/all/results\",\n",
        "      params={\n",
        "        \"q\":s, #原本是\"手機\"，放變數不能有引號\n",
        "        \"page\":p, #原本是\"1\"，放變數不能有引號\n",
        "        \"sort\":\"sale/dc\" \n",
        "        }    \n",
        "      )\n",
        "\n",
        "      if r1.status_code == 200:\n",
        "                  \n",
        "        d = json.loads(r1.text) #讀取json資料\n",
        "        # print(d)\n",
        "        \n",
        "        t1=prettytable.PrettyTable([\"name\",\"price\"], encoding=\"utf8\") #印表頭\n",
        "        t1.align[\"name\"]=\"l\" #該欄靠左\n",
        "        t1.align[\"price\"]=\"r\" #該欄靠右\n",
        "\n",
        "\n",
        "\n",
        "        for a in d[\"prods\"]:\n",
        "          # print(a[\"name\"],a[\"price\"])\n",
        "          t1.add_row([a[\"name\"],a[\"price\"]]) #在表裡依迴圈加入a資料\n",
        "\n",
        "\n",
        "        print(\"查詢結果共\",d[\"totalPage\"],\"頁，\",\"第\",p,\"頁查詢結果:\") \n",
        "        # print(\"第\",p,\"頁查詢結果:\") \n",
        "        print(t1)\n",
        "\n",
        "  t+=1\n"
      ],
      "execution_count": null,
      "outputs": [
        {
          "name": "stdout",
          "output_type": "stream",
          "text": [
            "請輸入搜尋關鍵字：手機\n"
          ]
        }
      ]
    }
  ]
}